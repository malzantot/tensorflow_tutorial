{
 "cells": [
  {
   "cell_type": "code",
   "execution_count": 1,
   "metadata": {
    "collapsed": true
   },
   "outputs": [],
   "source": [
    "import numpy as np\n",
    "import tensorflow as tf\n",
    "import matplotlib.pyplot as plt\n",
    "%matplotlib inline"
   ]
  },
  {
   "cell_type": "markdown",
   "metadata": {},
   "source": [
    "### Generate some data and plot them"
   ]
  },
  {
   "cell_type": "code",
   "execution_count": 2,
   "metadata": {
    "collapsed": false
   },
   "outputs": [],
   "source": [
    "## Generate some data and plot them\n",
    "X_val = np.random.uniform(-10.0, 10.0, size=(100,1))\n",
    "Y_val = 5.7 * X_val - 3.25 + np.random.normal(scale=10, size=(100,1))"
   ]
  },
  {
   "cell_type": "code",
   "execution_count": 3,
   "metadata": {
    "collapsed": false
   },
   "outputs": [
    {
     "data": {
      "text/plain": [
       "[<matplotlib.lines.Line2D at 0x7f2114994a90>]"
      ]
     },
     "execution_count": 3,
     "metadata": {},
     "output_type": "execute_result"
    },
    {
     "data": {
      "image/png": "[encoded data removed]",
      "text/plain": [
       "<matplotlib.figure.Figure at 0x7f2114994a58>"
      ]
     },
     "metadata": {},
     "output_type": "display_data"
    }
   ],
   "source": [
    "plt.scatter(X_val , Y_val)\n",
    "plt.plot(np.linspace(-10, 10, 100), np.linspace(-10, 10, 100) * 5.7 - 3.25, color='red')"
   ]
  },
  {
   "cell_type": "markdown",
   "metadata": {},
   "source": [
    "# Building the model"
   ]
  },
  {
   "cell_type": "markdown",
   "metadata": {},
   "source": [
    "Assume a linear model\n",
    "\n",
    "$$ \\hat{y} = a \\cdot x + b  $$\n",
    "\n",
    "Training objective to find $a$, and $b$ that minmize the loss value $MSE$.\n",
    "$$ MSE  = \\frac{1}{N} \\sum_{i=1}^{N} {(y_i - \\hat{y}_i)^2}$$"
   ]
  },
  {
   "cell_type": "markdown",
   "metadata": {},
   "source": [
    "# Build the graph "
   ]
  },
  {
   "cell_type": "code",
   "execution_count": 4,
   "metadata": {
    "collapsed": false,
    "scrolled": true
   },
   "outputs": [],
   "source": [
    "x = tf.placeholder(dtype=tf.float32, shape=[None, 1], name='x')\n",
    "w = tf.Variable(initial_value=tf.truncated_normal(shape=[]), name='w')\n",
    "b = tf.Variable(initial_value=0.0, name='b')\n",
    "y_ = tf.add(tf.multiply(w, x) , b)"
   ]
  },
  {
   "cell_type": "code",
   "execution_count": 5,
   "metadata": {
    "collapsed": false
   },
   "outputs": [
    {
     "name": "stdout",
     "output_type": "stream",
     "text": [
      "WARNING:tensorflow:From <ipython-input-5-2106c613596b>:2: initialize_all_variables (from tensorflow.python.ops.variables) is deprecated and will be removed after 2017-03-02.\n",
      "Instructions for updating:\n",
      "Use `tf.global_variables_initializer` instead.\n"
     ]
    },
    {
     "data": {
      "image/png": "[encoded data removed]",
      "text/plain": [
       "<matplotlib.figure.Figure at 0x7f21581fac18>"
      ]
     },
     "metadata": {},
     "output_type": "display_data"
    }
   ],
   "source": [
    "with tf.Session() as session:\n",
    "    init_op = tf.initialize_all_variables()\n",
    "    session.run(init_op)\n",
    "    y_pred = session.run(y_, feed_dict={x: X_val})\n",
    "    plt.scatter(X_val , Y_val)\n",
    "    plt.plot(np.linspace(-10, 10, 100), np.linspace(-10, 10, 100) * 5.7 - 3.25, color='red')\n",
    "    plt.scatter(X_val , y_pred, color='green')\n",
    "\n"
   ]
  },
  {
   "cell_type": "markdown",
   "metadata": {},
   "source": [
    "## Define a cost value"
   ]
  },
  {
   "cell_type": "code",
   "execution_count": 7,
   "metadata": {
    "collapsed": true
   },
   "outputs": [],
   "source": [
    "y = tf.placeholder(tf.float32, shape=[None, 1])\n",
    "cost = tf.reduce_mean(tf.squared_difference(y, y_))"
   ]
  },
  {
   "cell_type": "markdown",
   "metadata": {},
   "source": [
    "## Define optimizer"
   ]
  },
  {
   "cell_type": "code",
   "execution_count": 8,
   "metadata": {
    "collapsed": false
   },
   "outputs": [],
   "source": [
    "minimizer = tf.train.GradientDescentOptimizer(learning_rate=0.003)\n",
    "train_op = minimizer.minimize(cost)"
   ]
  },
  {
   "cell_type": "markdown",
   "metadata": {},
   "source": [
    "## Run the train op"
   ]
  },
  {
   "cell_type": "code",
   "execution_count": 13,
   "metadata": {
    "collapsed": false
   },
   "outputs": [
    {
     "name": "stdout",
     "output_type": "stream",
     "text": [
      "WARNING:tensorflow:From <ipython-input-13-a467626e40e4>:3: initialize_all_variables (from tensorflow.python.ops.variables) is deprecated and will be removed after 2017-03-02.\n",
      "Instructions for updating:\n",
      "Use `tf.global_variables_initializer` instead.\n",
      "Step 1 - loss = 941.162231.\n",
      "Step 2 - loss = 659.468140.\n",
      "Step 3 - loss = 474.173157.\n",
      "Step 4 - loss = 352.279175.\n",
      "Step 5 - loss = 272.083557.\n",
      "Step 6 - loss = 219.312790.\n",
      "Step 7 - loss = 184.579361.\n",
      "Step 8 - loss = 161.709167.\n",
      "Step 9 - loss = 146.641632.\n",
      "Step 10 - loss = 136.706116.\n",
      "Step 11 - loss = 130.146149.\n",
      "Step 12 - loss = 125.806564.\n",
      "Step 13 - loss = 122.927605.\n",
      "Step 14 - loss = 121.009537.\n",
      "Step 15 - loss = 119.723755.\n",
      "Step 16 - loss = 118.854103.\n",
      "Step 17 - loss = 118.258423.\n",
      "Step 18 - loss = 117.843201.\n",
      "Step 19 - loss = 117.546951.\n",
      "Step 20 - loss = 117.329201.\n",
      "Step 21 - loss = 117.163376.\n",
      "Step 22 - loss = 117.031967.\n",
      "Step 23 - loss = 116.923439.\n",
      "Step 24 - loss = 116.830238.\n",
      "Step 25 - loss = 116.747360.\n",
      "Step 26 - loss = 116.671547.\n",
      "Step 27 - loss = 116.600624.\n",
      "Step 28 - loss = 116.533142.\n",
      "Step 29 - loss = 116.468208.\n",
      "Step 30 - loss = 116.405159.\n",
      "Step 31 - loss = 116.343620.\n",
      "Step 32 - loss = 116.283295.\n",
      "Step 33 - loss = 116.223999.\n",
      "Step 34 - loss = 116.165627.\n",
      "Step 35 - loss = 116.108078.\n",
      "Step 36 - loss = 116.051308.\n",
      "Step 37 - loss = 115.995270.\n",
      "Step 38 - loss = 115.939934.\n",
      "Step 39 - loss = 115.885277.\n",
      "Step 40 - loss = 115.831284.\n",
      "Step 41 - loss = 115.777939.\n",
      "Step 42 - loss = 115.725220.\n",
      "Step 43 - loss = 115.673157.\n",
      "Step 44 - loss = 115.621696.\n",
      "Step 45 - loss = 115.570854.\n",
      "Step 46 - loss = 115.520599.\n",
      "Step 47 - loss = 115.470947.\n",
      "Step 48 - loss = 115.421890.\n",
      "Step 49 - loss = 115.373398.\n",
      "Step 50 - loss = 115.325500.\n",
      "Step 51 - loss = 115.278152.\n",
      "Step 52 - loss = 115.231377.\n",
      "Step 53 - loss = 115.185150.\n",
      "Step 54 - loss = 115.139465.\n",
      "Step 55 - loss = 115.094322.\n",
      "Step 56 - loss = 115.049713.\n",
      "Step 57 - loss = 115.005638.\n",
      "Step 58 - loss = 114.962074.\n",
      "Step 59 - loss = 114.919029.\n",
      "Step 60 - loss = 114.876503.\n",
      "Step 61 - loss = 114.834488.\n",
      "Step 62 - loss = 114.792938.\n",
      "Step 63 - loss = 114.751900.\n",
      "Step 64 - loss = 114.711342.\n",
      "Step 65 - loss = 114.671265.\n",
      "Step 66 - loss = 114.631653.\n",
      "Step 67 - loss = 114.592522.\n",
      "Step 68 - loss = 114.553848.\n",
      "Step 69 - loss = 114.515640.\n",
      "Step 70 - loss = 114.477875.\n",
      "Step 71 - loss = 114.440559.\n",
      "Step 72 - loss = 114.403679.\n",
      "Step 73 - loss = 114.367241.\n",
      "Step 74 - loss = 114.331230.\n",
      "Step 75 - loss = 114.295654.\n",
      "Step 76 - loss = 114.260483.\n",
      "Step 77 - loss = 114.225739.\n",
      "Step 78 - loss = 114.191422.\n",
      "Step 79 - loss = 114.157478.\n",
      "Step 80 - loss = 114.123962.\n",
      "Step 81 - loss = 114.090820.\n",
      "Step 82 - loss = 114.058075.\n",
      "Step 83 - loss = 114.025742.\n",
      "Step 84 - loss = 113.993759.\n",
      "Step 85 - loss = 113.962181.\n",
      "Step 86 - loss = 113.930954.\n",
      "Step 87 - loss = 113.900108.\n",
      "Step 88 - loss = 113.869621.\n",
      "Step 89 - loss = 113.839500.\n",
      "Step 90 - loss = 113.809731.\n",
      "Step 91 - loss = 113.780312.\n",
      "Step 92 - loss = 113.751251.\n",
      "Step 93 - loss = 113.722527.\n",
      "Step 94 - loss = 113.694138.\n",
      "Step 95 - loss = 113.666092.\n",
      "Step 96 - loss = 113.638382.\n",
      "Step 97 - loss = 113.610992.\n",
      "Step 98 - loss = 113.583931.\n",
      "Step 99 - loss = 113.557190.\n",
      "Step 100 - loss = 113.530754.\n",
      "Step 101 - loss = 113.504639.\n",
      "Step 102 - loss = 113.478828.\n",
      "Step 103 - loss = 113.453331.\n",
      "Step 104 - loss = 113.428131.\n",
      "Step 105 - loss = 113.403236.\n",
      "Step 106 - loss = 113.378632.\n",
      "Step 107 - loss = 113.354309.\n",
      "Step 108 - loss = 113.330276.\n",
      "Step 109 - loss = 113.306534.\n",
      "Step 110 - loss = 113.283066.\n",
      "Step 111 - loss = 113.259888.\n",
      "Step 112 - loss = 113.236977.\n",
      "Step 113 - loss = 113.214333.\n",
      "Step 114 - loss = 113.191963.\n",
      "Step 115 - loss = 113.169853.\n",
      "Step 116 - loss = 113.148010.\n",
      "Step 117 - loss = 113.126419.\n",
      "Step 118 - loss = 113.105087.\n",
      "Step 119 - loss = 113.084007.\n",
      "Step 120 - loss = 113.063171.\n",
      "Step 121 - loss = 113.042587.\n",
      "Step 122 - loss = 113.022232.\n",
      "Step 123 - loss = 113.002151.\n",
      "Step 124 - loss = 112.982277.\n",
      "Step 125 - loss = 112.962646.\n",
      "Step 126 - loss = 112.943253.\n",
      "Step 127 - loss = 112.924088.\n",
      "Step 128 - loss = 112.905136.\n",
      "Step 129 - loss = 112.886436.\n",
      "Step 130 - loss = 112.867935.\n",
      "Step 131 - loss = 112.849655.\n",
      "Step 132 - loss = 112.831596.\n",
      "Step 133 - loss = 112.813744.\n",
      "Step 134 - loss = 112.796112.\n",
      "Step 135 - loss = 112.778687.\n",
      "Step 136 - loss = 112.761467.\n",
      "Step 137 - loss = 112.744446.\n",
      "Step 138 - loss = 112.727638.\n",
      "Step 139 - loss = 112.711021.\n",
      "Step 140 - loss = 112.694595.\n",
      "Step 141 - loss = 112.678368.\n",
      "Step 142 - loss = 112.662331.\n",
      "Step 143 - loss = 112.646484.\n",
      "Step 144 - loss = 112.630829.\n",
      "Step 145 - loss = 112.615356.\n",
      "Step 146 - loss = 112.600075.\n",
      "Step 147 - loss = 112.584953.\n",
      "Step 148 - loss = 112.570023.\n",
      "Step 149 - loss = 112.555283.\n",
      "Step 150 - loss = 112.540695.\n",
      "Step 151 - loss = 112.526306.\n",
      "Step 152 - loss = 112.512054.\n",
      "Step 153 - loss = 112.497993.\n",
      "Step 154 - loss = 112.484093.\n",
      "Step 155 - loss = 112.470345.\n",
      "Step 156 - loss = 112.456779.\n",
      "Step 157 - loss = 112.443375.\n",
      "Step 158 - loss = 112.430099.\n",
      "Step 159 - loss = 112.417007.\n",
      "Step 160 - loss = 112.404060.\n",
      "Step 161 - loss = 112.391266.\n",
      "Step 162 - loss = 112.378632.\n",
      "Step 163 - loss = 112.366150.\n",
      "Step 164 - loss = 112.353806.\n",
      "Step 165 - loss = 112.341614.\n",
      "Step 166 - loss = 112.329559.\n",
      "Step 167 - loss = 112.317657.\n",
      "Step 168 - loss = 112.305862.\n",
      "Step 169 - loss = 112.294250.\n",
      "Step 170 - loss = 112.282761.\n",
      "Step 171 - loss = 112.271393.\n",
      "Step 172 - loss = 112.260185.\n",
      "Step 173 - loss = 112.249092.\n",
      "Step 174 - loss = 112.238136.\n",
      "Step 175 - loss = 112.227303.\n",
      "Step 176 - loss = 112.216606.\n",
      "Step 177 - loss = 112.206032.\n",
      "Step 178 - loss = 112.195587.\n",
      "Step 179 - loss = 112.185257.\n",
      "Step 180 - loss = 112.175064.\n",
      "Step 181 - loss = 112.164970.\n",
      "Step 182 - loss = 112.155006.\n",
      "Step 183 - loss = 112.145172.\n",
      "Step 184 - loss = 112.135437.\n",
      "Step 185 - loss = 112.125824.\n",
      "Step 186 - loss = 112.116325.\n",
      "Step 187 - loss = 112.106941.\n",
      "Step 188 - loss = 112.097672.\n",
      "Step 189 - loss = 112.088493.\n",
      "Step 190 - loss = 112.079430.\n",
      "Step 191 - loss = 112.070488.\n",
      "Step 192 - loss = 112.061638.\n",
      "Step 193 - loss = 112.052902.\n",
      "Step 194 - loss = 112.044258.\n",
      "Step 195 - loss = 112.035728.\n",
      "Step 196 - loss = 112.027283.\n",
      "Step 197 - loss = 112.018959.\n",
      "Step 198 - loss = 112.010727.\n",
      "Step 199 - loss = 112.002594.\n",
      "Step 200 - loss = 111.994553.\n",
      "Step 201 - loss = 111.986588.\n",
      "Step 202 - loss = 111.978745.\n",
      "Step 203 - loss = 111.970978.\n",
      "Step 204 - loss = 111.963318.\n",
      "Step 205 - loss = 111.955727.\n",
      "Step 206 - loss = 111.948250.\n",
      "Step 207 - loss = 111.940849.\n",
      "Step 208 - loss = 111.933533.\n",
      "Step 209 - loss = 111.926315.\n",
      "Step 210 - loss = 111.919174.\n",
      "Step 211 - loss = 111.912117.\n",
      "Step 212 - loss = 111.905151.\n",
      "Step 213 - loss = 111.898254.\n",
      "Step 214 - loss = 111.891449.\n",
      "Step 215 - loss = 111.884720.\n",
      "Step 216 - loss = 111.878067.\n",
      "Step 217 - loss = 111.871498.\n",
      "Step 218 - loss = 111.865005.\n",
      "Step 219 - loss = 111.858582.\n",
      "Step 220 - loss = 111.852257.\n",
      "Step 221 - loss = 111.845985.\n",
      "Step 222 - loss = 111.839798.\n",
      "Step 223 - loss = 111.833672.\n",
      "Step 224 - loss = 111.827629.\n",
      "Step 225 - loss = 111.821655.\n",
      "Step 226 - loss = 111.815758.\n",
      "Step 227 - loss = 111.809929.\n",
      "Step 228 - loss = 111.804169.\n",
      "Step 229 - loss = 111.798462.\n",
      "Step 230 - loss = 111.792847.\n",
      "Step 231 - loss = 111.787277.\n",
      "Step 232 - loss = 111.781776.\n",
      "Step 233 - loss = 111.776344.\n",
      "Step 234 - loss = 111.770988.\n",
      "Step 235 - loss = 111.765678.\n",
      "Step 236 - loss = 111.760437.\n",
      "Step 237 - loss = 111.755264.\n",
      "Step 238 - loss = 111.750145.\n",
      "Step 239 - loss = 111.745087.\n",
      "Step 240 - loss = 111.740097.\n",
      "Step 241 - loss = 111.735153.\n",
      "Step 242 - loss = 111.730270.\n",
      "Step 243 - loss = 111.725441.\n",
      "Step 244 - loss = 111.720688.\n",
      "Step 245 - loss = 111.715973.\n",
      "Step 246 - loss = 111.711319.\n",
      "Step 247 - loss = 111.706734.\n",
      "Step 248 - loss = 111.702179.\n",
      "Step 249 - loss = 111.697693.\n",
      "Step 250 - loss = 111.693253.\n",
      "Step 251 - loss = 111.688889.\n",
      "Step 252 - loss = 111.684540.\n",
      "Step 253 - loss = 111.680260.\n",
      "Step 254 - loss = 111.676033.\n",
      "Step 255 - loss = 111.671852.\n",
      "Step 256 - loss = 111.667725.\n",
      "Step 257 - loss = 111.663635.\n",
      "Step 258 - loss = 111.659607.\n",
      "Step 259 - loss = 111.655617.\n",
      "Step 260 - loss = 111.651672.\n",
      "Step 261 - loss = 111.647797.\n",
      "Step 262 - loss = 111.643936.\n",
      "Step 263 - loss = 111.640137.\n",
      "Step 264 - loss = 111.636383.\n",
      "Step 265 - loss = 111.632668.\n",
      "Step 266 - loss = 111.629013.\n",
      "Step 267 - loss = 111.625381.\n",
      "Step 268 - loss = 111.621803.\n",
      "Step 269 - loss = 111.618256.\n",
      "Step 270 - loss = 111.614761.\n",
      "Step 271 - loss = 111.611305.\n",
      "Step 272 - loss = 111.607887.\n",
      "Step 273 - loss = 111.604523.\n",
      "Step 274 - loss = 111.601181.\n",
      "Step 275 - loss = 111.597885.\n",
      "Step 276 - loss = 111.594635.\n",
      "Step 277 - loss = 111.591423.\n",
      "Step 278 - loss = 111.588234.\n",
      "Step 279 - loss = 111.585091.\n",
      "Step 280 - loss = 111.581993.\n",
      "Step 281 - loss = 111.578926.\n",
      "Step 282 - loss = 111.575882.\n",
      "Step 283 - loss = 111.572891.\n",
      "Step 284 - loss = 111.569931.\n",
      "Step 285 - loss = 111.567001.\n",
      "Step 286 - loss = 111.564117.\n",
      "Step 287 - loss = 111.561264.\n",
      "Step 288 - loss = 111.558426.\n",
      "Step 289 - loss = 111.555649.\n",
      "Step 290 - loss = 111.552887.\n",
      "Step 291 - loss = 111.550163.\n",
      "Step 292 - loss = 111.547470.\n",
      "Step 293 - loss = 111.544807.\n",
      "Step 294 - loss = 111.542191.\n",
      "Step 295 - loss = 111.539589.\n",
      "Step 296 - loss = 111.537018.\n",
      "Step 297 - loss = 111.534477.\n",
      "Step 298 - loss = 111.531967.\n",
      "Step 299 - loss = 111.529503.\n",
      "Step 300 - loss = 111.527054.\n",
      "Step 301 - loss = 111.524635.\n",
      "Step 302 - loss = 111.522247.\n",
      "Step 303 - loss = 111.519890.\n",
      "Step 304 - loss = 111.517548.\n",
      "Step 305 - loss = 111.515236.\n",
      "Step 306 - loss = 111.512970.\n",
      "Step 307 - loss = 111.510712.\n",
      "Step 308 - loss = 111.508492.\n",
      "Step 309 - loss = 111.506294.\n",
      "Step 310 - loss = 111.504120.\n",
      "Step 311 - loss = 111.501976.\n",
      "Step 312 - loss = 111.499847.\n",
      "Step 313 - loss = 111.497757.\n",
      "Step 314 - loss = 111.495682.\n",
      "Step 315 - loss = 111.493629.\n",
      "Step 316 - loss = 111.491608.\n",
      "Step 317 - loss = 111.489609.\n",
      "Step 318 - loss = 111.487640.\n",
      "Step 319 - loss = 111.485680.\n",
      "Step 320 - loss = 111.483749.\n",
      "Step 321 - loss = 111.481850.\n",
      "Step 322 - loss = 111.479965.\n",
      "Step 323 - loss = 111.478104.\n",
      "Step 324 - loss = 111.476265.\n",
      "Step 325 - loss = 111.474449.\n",
      "Step 326 - loss = 111.472649.\n",
      "Step 327 - loss = 111.470879.\n",
      "Step 328 - loss = 111.469116.\n",
      "Step 329 - loss = 111.467392.\n",
      "Step 330 - loss = 111.465675.\n",
      "Step 331 - loss = 111.463989.\n",
      "Step 332 - loss = 111.462311.\n",
      "Step 333 - loss = 111.460655.\n",
      "Step 334 - loss = 111.459015.\n",
      "Step 335 - loss = 111.457413.\n",
      "Step 336 - loss = 111.455818.\n",
      "Step 337 - loss = 111.454239.\n",
      "Step 338 - loss = 111.452682.\n",
      "Step 339 - loss = 111.451141.\n",
      "Step 340 - loss = 111.449615.\n",
      "Step 341 - loss = 111.448120.\n",
      "Step 342 - loss = 111.446632.\n",
      "Step 343 - loss = 111.445168.\n",
      "Step 344 - loss = 111.443718.\n",
      "Step 345 - loss = 111.442276.\n",
      "Step 346 - loss = 111.440865.\n",
      "Step 347 - loss = 111.439476.\n",
      "Step 348 - loss = 111.438087.\n",
      "Step 349 - loss = 111.436722.\n",
      "Step 350 - loss = 111.435379.\n",
      "Step 351 - loss = 111.434036.\n",
      "Step 352 - loss = 111.432724.\n",
      "Step 353 - loss = 111.431419.\n",
      "Step 354 - loss = 111.430138.\n",
      "Step 355 - loss = 111.428856.\n",
      "Step 356 - loss = 111.427597.\n",
      "Step 357 - loss = 111.426361.\n",
      "Step 358 - loss = 111.425133.\n",
      "Step 359 - loss = 111.423912.\n",
      "Step 360 - loss = 111.422722.\n",
      "Step 361 - loss = 111.421532.\n",
      "Step 362 - loss = 111.420357.\n",
      "Step 363 - loss = 111.419197.\n",
      "Step 364 - loss = 111.418053.\n",
      "Step 365 - loss = 111.416931.\n",
      "Step 366 - loss = 111.415825.\n",
      "Step 367 - loss = 111.414719.\n",
      "Step 368 - loss = 111.413620.\n",
      "Step 369 - loss = 111.412552.\n",
      "Step 370 - loss = 111.411476.\n",
      "Step 371 - loss = 111.410431.\n",
      "Step 372 - loss = 111.409393.\n",
      "Step 373 - loss = 111.408363.\n",
      "Step 374 - loss = 111.407349.\n",
      "Step 375 - loss = 111.406349.\n",
      "Step 376 - loss = 111.405365.\n",
      "Step 377 - loss = 111.404381.\n",
      "Step 378 - loss = 111.403404.\n",
      "Step 379 - loss = 111.402451.\n",
      "Step 380 - loss = 111.401512.\n",
      "Step 381 - loss = 111.400566.\n",
      "Step 382 - loss = 111.399658.\n",
      "Step 383 - loss = 111.398743.\n",
      "Step 384 - loss = 111.397842.\n",
      "Step 385 - loss = 111.396950.\n",
      "Step 386 - loss = 111.396080.\n",
      "Step 387 - loss = 111.395203.\n",
      "Step 388 - loss = 111.394348.\n",
      "Step 389 - loss = 111.393501.\n",
      "Step 390 - loss = 111.392647.\n",
      "Step 391 - loss = 111.391823.\n",
      "Step 392 - loss = 111.391014.\n",
      "Step 393 - loss = 111.390182.\n",
      "Step 394 - loss = 111.389404.\n",
      "Step 395 - loss = 111.388603.\n",
      "Step 396 - loss = 111.387833.\n",
      "Step 397 - loss = 111.387054.\n",
      "Step 398 - loss = 111.386292.\n",
      "Step 399 - loss = 111.385536.\n",
      "Step 400 - loss = 111.384789.\n",
      "Final weights and bias ( 5.646168, -2.542767) \n"
     ]
    },
    {
     "data": {
      "image/png": "[encoded data removed]",
      "text/plain": [
       "<matplotlib.figure.Figure at 0x7f2111503898>"
      ]
     },
     "metadata": {},
     "output_type": "display_data"
    }
   ],
   "source": [
    "n_steps = 400\n",
    "with tf.Session() as session:\n",
    "    init_op = tf.initialize_all_variables()\n",
    "    session.run(init_op)\n",
    "    for step_idx in range(n_steps):\n",
    "        cur_loss, _ = session.run([cost, train_op], feed_dict={x: X_val, y: Y_val})\n",
    "        print('Step %d - loss = %f.' %(step_idx+1, cur_loss))\n",
    "        #y_pred = session.run(y_, feed_dict={x: X_val})\n",
    "        \n",
    "    y_pred = session.run(y_, feed_dict={x: X_val})\n",
    "    plt.scatter(X_val , Y_val)\n",
    "    plt.plot(np.linspace(-10, 10, 100), np.linspace(-10, 10, 100) * 5.7 - 3.25, color='red')\n",
    "    plt.scatter(X_val , y_pred, color='green')\n",
    "    ## \n",
    "    w_ , b_ = session.run([w, b])\n",
    "    print('Final weights and bias ( %f, %f) ' %(w_, b_))"
   ]
  },
  {
   "cell_type": "code",
   "execution_count": 15,
   "metadata": {
    "collapsed": false
   },
   "outputs": [],
   "source": [
    "writer = tf.summary.FileWriter('graph_3', tf.get_default_graph())\n",
    "writer.close()"
   ]
  },
  {
   "cell_type": "code",
   "execution_count": null,
   "metadata": {
    "collapsed": true
   },
   "outputs": [],
   "source": []
  }
 ],
 "metadata": {
  "anaconda-cloud": {},
  "kernelspec": {
   "display_name": "Python 3",
   "language": "python",
   "name": "python3"
  },
  "language_info": {
   "codemirror_mode": {
    "name": "ipython",
    "version": 3
   },
   "file_extension": ".py",
   "mimetype": "text/x-python",
   "name": "python",
   "nbconvert_exporter": "python",
   "pygments_lexer": "ipython3",
   "version": "3.6.0"
  }
 },
 "nbformat": 4,
 "nbformat_minor": 1
}
