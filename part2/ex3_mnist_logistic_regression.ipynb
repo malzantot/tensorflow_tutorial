{
 "cells": [
  {
   "cell_type": "code",
   "execution_count": 14,
   "metadata": {
    "collapsed": true
   },
   "outputs": [],
   "source": [
    "import numpy as np\n",
    "import tensorflow as tf\n",
    "import matplotlib.pyplot as plt\n",
    "import matplotlib.cm as cm\n",
    "\n",
    "%matplotlib inline"
   ]
  },
  {
   "cell_type": "code",
   "execution_count": 3,
   "metadata": {
    "collapsed": false
   },
   "outputs": [],
   "source": [
    "from tensorflow.examples.tutorials.mnist import input_data"
   ]
  },
  {
   "cell_type": "code",
   "execution_count": 5,
   "metadata": {
    "collapsed": false
   },
   "outputs": [
    {
     "name": "stdout",
     "output_type": "stream",
     "text": [
      "Extracting data/train-images-idx3-ubyte.gz\n",
      "Extracting data/train-labels-idx1-ubyte.gz\n",
      "Extracting data/t10k-images-idx3-ubyte.gz\n",
      "Extracting data/t10k-labels-idx1-ubyte.gz\n"
     ]
    }
   ],
   "source": [
    "mnist_data = input_data.read_data_sets('data/', one_hot=True)"
   ]
  },
  {
   "cell_type": "code",
   "execution_count": 9,
   "metadata": {
    "collapsed": false
   },
   "outputs": [
    {
     "name": "stdout",
     "output_type": "stream",
     "text": [
      "Train data is 55000 images.\n",
      "Test data is 10000 images.\n"
     ]
    }
   ],
   "source": [
    "train_X = mnist_data.train.images\n",
    "train_y  = mnist_data.train.labels\n",
    "\n",
    "test_X = mnist_data.test.images\n",
    "test_y = mnist_data.train.labels\n",
    "\n",
    "print('Train data is %d images.' %train_X.shape[0])\n",
    "print('Test data is %d images.' %test_X.shape[0])"
   ]
  },
  {
   "cell_type": "markdown",
   "metadata": {},
   "source": [
    "## Visualize some random images"
   ]
  },
  {
   "cell_type": "code",
   "execution_count": 30,
   "metadata": {
    "collapsed": false
   },
   "outputs": [
    {
     "data": {
      "image/png": "[encoded data removed]",
      "text/plain": [
       "<matplotlib.figure.Figure at 0x1544cfa58>"
      ]
     },
     "metadata": {},
     "output_type": "display_data"
    }
   ],
   "source": [
    "fig = plt.figure()\n",
    "select_img = np.random.choice(train_X.shape[0], size=6, replace=False)\n",
    "for i in range(6):\n",
    "    ax = fig.add_subplot(1, 6, i+1)\n",
    "    plt.imshow(train_X[select_img[i],:].reshape((28, 28)), cmap=cm.gray)\n",
    "    plt.title('Label = %d'  %np.argmax(train_y[select_img[i],:]))\n",
    "    plt.xticks([])\n",
    "    plt.yticks([])\n",
    "    \n",
    "plt.tight_layout()"
   ]
  },
  {
   "cell_type": "markdown",
   "metadata": {},
   "source": [
    "## Logistic Regression "
   ]
  },
  {
   "cell_type": "code",
   "execution_count": 67,
   "metadata": {
    "collapsed": true
   },
   "outputs": [],
   "source": [
    "class LRModel(object):\n",
    "    def __init__(self, train_X, train_y, test_X, test_y):\n",
    "        self.train_X = train_X\n",
    "        self.train_y = train_y\n",
    "        self.test_X = test_X\n",
    "        self.test_y = test_y\n",
    "        \n",
    "        self._build_graph()\n",
    "        self.session = tf.Session(graph=self.graph)\n",
    "        self.session.run(self.init_op)\n",
    "    \n",
    "    def _build_graph(self):\n",
    "        self.graph = tf.Graph()\n",
    "        with self.graph.as_default():\n",
    "            self.x_holder = tf.placeholder(tf.float32, shape=[None, 784])\n",
    "            self.y_holder = tf.placeholder(tf.float32, shape=[None, 10])\n",
    "        \n",
    "            self.w = tf.Variable(initial_value=tf.truncated_normal([784, 10]))\n",
    "            self.b = tf.Variable(initial_value=tf.zeros([10]))\n",
    "        \n",
    "            self.logits = tf.matmul(self.x_holder, self.w) + self.b\n",
    "            self.pred_ = tf.nn.softmax(self.logits)\n",
    "        \n",
    "            self.cost = tf.reduce_mean(\n",
    "                tf.nn.softmax_cross_entropy_with_logits(logits=self.logits, labels=self.y_holder))\n",
    "        \n",
    "            self.optimizer = tf.train.GradientDescentOptimizer(0.01)\n",
    "            self.train_op = self.optimizer.minimize(self.cost)\n",
    "            self.init_op = tf.initialize_all_variables()\n",
    "    \n",
    "    def fit(self, n_steps):\n",
    "        for idx in range(n_steps):\n",
    "            cur_loss, _ = self.session.run([self.cost, self.train_op], feed_dict={self.x_holder: self.train_X[:50,:],\n",
    "                                                                              self.y_holder: self.train_y[:50,:]})\n",
    "            print('step %d - loss = %f' %((idx+1, cur_loss)))"
   ]
  },
  {
   "cell_type": "code",
   "execution_count": 68,
   "metadata": {
    "collapsed": false
   },
   "outputs": [
    {
     "name": "stdout",
     "output_type": "stream",
     "text": [
      "WARNING:tensorflow:From <ipython-input-67-05323a2939d0>:29: initialize_all_variables (from tensorflow.python.ops.variables) is deprecated and will be removed after 2017-03-02.\n",
      "Instructions for updating:\n",
      "Use `tf.global_variables_initializer` instead.\n"
     ]
    }
   ],
   "source": [
    "model = LRModel(train_X, train_y, test_X, test_y)"
   ]
  },
  {
   "cell_type": "code",
   "execution_count": 79,
   "metadata": {
    "collapsed": false
   },
   "outputs": [
    {
     "name": "stdout",
     "output_type": "stream",
     "text": [
      "step 1 - loss = 1.626851\n",
      "step 2 - loss = 1.622130\n",
      "step 3 - loss = 1.617427\n",
      "step 4 - loss = 1.612740\n",
      "step 5 - loss = 1.608070\n",
      "step 6 - loss = 1.603417\n",
      "step 7 - loss = 1.598781\n",
      "step 8 - loss = 1.594161\n",
      "step 9 - loss = 1.589557\n",
      "step 10 - loss = 1.584970\n",
      "step 11 - loss = 1.580399\n",
      "step 12 - loss = 1.575844\n",
      "step 13 - loss = 1.571305\n",
      "step 14 - loss = 1.566781\n",
      "step 15 - loss = 1.562273\n",
      "step 16 - loss = 1.557781\n",
      "step 17 - loss = 1.553304\n",
      "step 18 - loss = 1.548842\n",
      "step 19 - loss = 1.544395\n",
      "step 20 - loss = 1.539964\n",
      "step 21 - loss = 1.535547\n",
      "step 22 - loss = 1.531145\n",
      "step 23 - loss = 1.526758\n",
      "step 24 - loss = 1.522386\n",
      "step 25 - loss = 1.518027\n",
      "step 26 - loss = 1.513684\n",
      "step 27 - loss = 1.509354\n",
      "step 28 - loss = 1.505038\n",
      "step 29 - loss = 1.500737\n",
      "step 30 - loss = 1.496449\n",
      "step 31 - loss = 1.492175\n",
      "step 32 - loss = 1.487915\n",
      "step 33 - loss = 1.483668\n",
      "step 34 - loss = 1.479435\n",
      "step 35 - loss = 1.475214\n",
      "step 36 - loss = 1.471008\n",
      "step 37 - loss = 1.466815\n",
      "step 38 - loss = 1.462634\n",
      "step 39 - loss = 1.458466\n",
      "step 40 - loss = 1.454312\n",
      "step 41 - loss = 1.450170\n",
      "step 42 - loss = 1.446041\n",
      "step 43 - loss = 1.441924\n",
      "step 44 - loss = 1.437819\n",
      "step 45 - loss = 1.433727\n",
      "step 46 - loss = 1.429648\n",
      "step 47 - loss = 1.425580\n",
      "step 48 - loss = 1.421525\n",
      "step 49 - loss = 1.417482\n",
      "step 50 - loss = 1.413450\n",
      "step 51 - loss = 1.409430\n",
      "step 52 - loss = 1.405422\n",
      "step 53 - loss = 1.401425\n",
      "step 54 - loss = 1.397440\n",
      "step 55 - loss = 1.393467\n",
      "step 56 - loss = 1.389505\n",
      "step 57 - loss = 1.385554\n",
      "step 58 - loss = 1.381615\n",
      "step 59 - loss = 1.377686\n",
      "step 60 - loss = 1.373769\n",
      "step 61 - loss = 1.369862\n",
      "step 62 - loss = 1.365967\n",
      "step 63 - loss = 1.362082\n",
      "step 64 - loss = 1.358208\n",
      "step 65 - loss = 1.354344\n",
      "step 66 - loss = 1.350491\n",
      "step 67 - loss = 1.346649\n",
      "step 68 - loss = 1.342817\n",
      "step 69 - loss = 1.338995\n",
      "step 70 - loss = 1.335184\n",
      "step 71 - loss = 1.331383\n",
      "step 72 - loss = 1.327592\n",
      "step 73 - loss = 1.323811\n",
      "step 74 - loss = 1.320040\n",
      "step 75 - loss = 1.316278\n",
      "step 76 - loss = 1.312527\n",
      "step 77 - loss = 1.308785\n",
      "step 78 - loss = 1.305053\n",
      "step 79 - loss = 1.301331\n",
      "step 80 - loss = 1.297618\n",
      "step 81 - loss = 1.293915\n",
      "step 82 - loss = 1.290221\n",
      "step 83 - loss = 1.286537\n",
      "step 84 - loss = 1.282862\n",
      "step 85 - loss = 1.279196\n",
      "step 86 - loss = 1.275539\n",
      "step 87 - loss = 1.271891\n",
      "step 88 - loss = 1.268253\n",
      "step 89 - loss = 1.264623\n",
      "step 90 - loss = 1.261002\n",
      "step 91 - loss = 1.257390\n",
      "step 92 - loss = 1.253787\n",
      "step 93 - loss = 1.250193\n",
      "step 94 - loss = 1.246607\n",
      "step 95 - loss = 1.243030\n",
      "step 96 - loss = 1.239462\n",
      "step 97 - loss = 1.235902\n",
      "step 98 - loss = 1.232350\n",
      "step 99 - loss = 1.228808\n",
      "step 100 - loss = 1.225273\n",
      "step 101 - loss = 1.221746\n",
      "step 102 - loss = 1.218228\n",
      "step 103 - loss = 1.214718\n",
      "step 104 - loss = 1.211216\n",
      "step 105 - loss = 1.207722\n",
      "step 106 - loss = 1.204237\n",
      "step 107 - loss = 1.200759\n",
      "step 108 - loss = 1.197289\n",
      "step 109 - loss = 1.193827\n",
      "step 110 - loss = 1.190373\n",
      "step 111 - loss = 1.186927\n",
      "step 112 - loss = 1.183488\n",
      "step 113 - loss = 1.180057\n",
      "step 114 - loss = 1.176634\n",
      "step 115 - loss = 1.173218\n",
      "step 116 - loss = 1.169810\n",
      "step 117 - loss = 1.166409\n",
      "step 118 - loss = 1.163016\n",
      "step 119 - loss = 1.159630\n",
      "step 120 - loss = 1.156252\n",
      "step 121 - loss = 1.152881\n",
      "step 122 - loss = 1.149516\n",
      "step 123 - loss = 1.146160\n",
      "step 124 - loss = 1.142810\n",
      "step 125 - loss = 1.139468\n",
      "step 126 - loss = 1.136133\n",
      "step 127 - loss = 1.132805\n",
      "step 128 - loss = 1.129483\n",
      "step 129 - loss = 1.126169\n",
      "step 130 - loss = 1.122862\n",
      "step 131 - loss = 1.119562\n",
      "step 132 - loss = 1.116268\n",
      "step 133 - loss = 1.112981\n",
      "step 134 - loss = 1.109701\n",
      "step 135 - loss = 1.106428\n",
      "step 136 - loss = 1.103161\n",
      "step 137 - loss = 1.099902\n",
      "step 138 - loss = 1.096648\n",
      "step 139 - loss = 1.093401\n",
      "step 140 - loss = 1.090161\n",
      "step 141 - loss = 1.086928\n",
      "step 142 - loss = 1.083701\n",
      "step 143 - loss = 1.080480\n",
      "step 144 - loss = 1.077266\n",
      "step 145 - loss = 1.074058\n",
      "step 146 - loss = 1.070856\n",
      "step 147 - loss = 1.067661\n",
      "step 148 - loss = 1.064472\n",
      "step 149 - loss = 1.061289\n",
      "step 150 - loss = 1.058113\n",
      "step 151 - loss = 1.054942\n",
      "step 152 - loss = 1.051778\n",
      "step 153 - loss = 1.048620\n",
      "step 154 - loss = 1.045468\n",
      "step 155 - loss = 1.042322\n",
      "step 156 - loss = 1.039182\n",
      "step 157 - loss = 1.036048\n",
      "step 158 - loss = 1.032920\n",
      "step 159 - loss = 1.029798\n",
      "step 160 - loss = 1.026682\n",
      "step 161 - loss = 1.023571\n",
      "step 162 - loss = 1.020467\n",
      "step 163 - loss = 1.017368\n",
      "step 164 - loss = 1.014275\n",
      "step 165 - loss = 1.011188\n",
      "step 166 - loss = 1.008107\n",
      "step 167 - loss = 1.005031\n",
      "step 168 - loss = 1.001961\n",
      "step 169 - loss = 0.998897\n",
      "step 170 - loss = 0.995838\n",
      "step 171 - loss = 0.992785\n",
      "step 172 - loss = 0.989737\n",
      "step 173 - loss = 0.986696\n",
      "step 174 - loss = 0.983659\n",
      "step 175 - loss = 0.980628\n",
      "step 176 - loss = 0.977603\n",
      "step 177 - loss = 0.974583\n",
      "step 178 - loss = 0.971568\n",
      "step 179 - loss = 0.968559\n",
      "step 180 - loss = 0.965555\n",
      "step 181 - loss = 0.962557\n",
      "step 182 - loss = 0.959564\n",
      "step 183 - loss = 0.956576\n",
      "step 184 - loss = 0.953594\n",
      "step 185 - loss = 0.950617\n",
      "step 186 - loss = 0.947645\n",
      "step 187 - loss = 0.944679\n",
      "step 188 - loss = 0.941717\n",
      "step 189 - loss = 0.938761\n",
      "step 190 - loss = 0.935811\n",
      "step 191 - loss = 0.932865\n",
      "step 192 - loss = 0.929924\n",
      "step 193 - loss = 0.926989\n",
      "step 194 - loss = 0.924059\n",
      "step 195 - loss = 0.921134\n",
      "step 196 - loss = 0.918213\n",
      "step 197 - loss = 0.915299\n",
      "step 198 - loss = 0.912389\n",
      "step 199 - loss = 0.909484\n",
      "step 200 - loss = 0.906584\n"
     ]
    }
   ],
   "source": [
    "model.fit(200)"
   ]
  },
  {
   "cell_type": "code",
   "execution_count": null,
   "metadata": {
    "collapsed": true
   },
   "outputs": [],
   "source": []
  }
 ],
 "metadata": {
  "anaconda-cloud": {},
  "kernelspec": {
   "display_name": "Python [default]",
   "language": "python",
   "name": "python3"
  },
  "language_info": {
   "codemirror_mode": {
    "name": "ipython",
    "version": 3
   },
   "file_extension": ".py",
   "mimetype": "text/x-python",
   "name": "python",
   "nbconvert_exporter": "python",
   "pygments_lexer": "ipython3",
   "version": "3.5.2"
  }
 },
 "nbformat": 4,
 "nbformat_minor": 1
}
